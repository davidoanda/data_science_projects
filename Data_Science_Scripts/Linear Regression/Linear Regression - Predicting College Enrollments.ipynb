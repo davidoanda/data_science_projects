{
 "cells": [
  {
   "cell_type": "markdown",
   "metadata": {},
   "source": [
    "## Predicting the College enrollment rates of students in New Mexico using gathered yearly data from 1961 - 1989"
   ]
  },
  {
   "cell_type": "code",
   "execution_count": 1,
   "metadata": {},
   "outputs": [],
   "source": [
    "import numpy as np\n",
    "import pandas as pd\n",
    "\n",
    "import matplotlib.pyplot as plt\n",
    "from pylab import rcParams\n",
    "\n",
    "import sklearn\n",
    "from sklearn.linear_model import LinearRegression\n",
    "from sklearn.preprocessing import scale"
   ]
  },
  {
   "cell_type": "code",
   "execution_count": 2,
   "metadata": {},
   "outputs": [],
   "source": [
    "%matplotlib inline\n",
    "rcParams['figure.figsize'] = 5, 4\n",
    "\n",
    "import seaborn as sb\n",
    "sb.set_style('whitegrid')"
   ]
  },
  {
   "cell_type": "code",
   "execution_count": 3,
   "metadata": {},
   "outputs": [
    {
     "data": {
      "text/html": [
       "<div>\n",
       "<style scoped>\n",
       "    .dataframe tbody tr th:only-of-type {\n",
       "        vertical-align: middle;\n",
       "    }\n",
       "\n",
       "    .dataframe tbody tr th {\n",
       "        vertical-align: top;\n",
       "    }\n",
       "\n",
       "    .dataframe thead th {\n",
       "        text-align: right;\n",
       "    }\n",
       "</style>\n",
       "<table border=\"1\" class=\"dataframe\">\n",
       "  <thead>\n",
       "    <tr style=\"text-align: right;\">\n",
       "      <th></th>\n",
       "      <th>year</th>\n",
       "      <th>roll</th>\n",
       "      <th>unem</th>\n",
       "      <th>hgrad</th>\n",
       "      <th>inc</th>\n",
       "    </tr>\n",
       "  </thead>\n",
       "  <tbody>\n",
       "    <tr>\n",
       "      <td>0</td>\n",
       "      <td>1961</td>\n",
       "      <td>5501</td>\n",
       "      <td>8.1</td>\n",
       "      <td>9552</td>\n",
       "      <td>1923</td>\n",
       "    </tr>\n",
       "    <tr>\n",
       "      <td>1</td>\n",
       "      <td>1962</td>\n",
       "      <td>5945</td>\n",
       "      <td>7.0</td>\n",
       "      <td>9680</td>\n",
       "      <td>1961</td>\n",
       "    </tr>\n",
       "    <tr>\n",
       "      <td>2</td>\n",
       "      <td>1963</td>\n",
       "      <td>6629</td>\n",
       "      <td>7.3</td>\n",
       "      <td>9731</td>\n",
       "      <td>1979</td>\n",
       "    </tr>\n",
       "    <tr>\n",
       "      <td>3</td>\n",
       "      <td>1964</td>\n",
       "      <td>7556</td>\n",
       "      <td>7.5</td>\n",
       "      <td>11666</td>\n",
       "      <td>2030</td>\n",
       "    </tr>\n",
       "    <tr>\n",
       "      <td>4</td>\n",
       "      <td>1965</td>\n",
       "      <td>8716</td>\n",
       "      <td>7.0</td>\n",
       "      <td>14675</td>\n",
       "      <td>2112</td>\n",
       "    </tr>\n",
       "    <tr>\n",
       "      <td>5</td>\n",
       "      <td>1966</td>\n",
       "      <td>9369</td>\n",
       "      <td>6.4</td>\n",
       "      <td>15265</td>\n",
       "      <td>2192</td>\n",
       "    </tr>\n",
       "    <tr>\n",
       "      <td>6</td>\n",
       "      <td>1967</td>\n",
       "      <td>9920</td>\n",
       "      <td>6.5</td>\n",
       "      <td>15484</td>\n",
       "      <td>2235</td>\n",
       "    </tr>\n",
       "    <tr>\n",
       "      <td>7</td>\n",
       "      <td>1968</td>\n",
       "      <td>10167</td>\n",
       "      <td>6.4</td>\n",
       "      <td>15723</td>\n",
       "      <td>2351</td>\n",
       "    </tr>\n",
       "    <tr>\n",
       "      <td>8</td>\n",
       "      <td>1969</td>\n",
       "      <td>11084</td>\n",
       "      <td>6.3</td>\n",
       "      <td>16501</td>\n",
       "      <td>2411</td>\n",
       "    </tr>\n",
       "    <tr>\n",
       "      <td>9</td>\n",
       "      <td>1970</td>\n",
       "      <td>12504</td>\n",
       "      <td>7.7</td>\n",
       "      <td>16890</td>\n",
       "      <td>2475</td>\n",
       "    </tr>\n",
       "    <tr>\n",
       "      <td>10</td>\n",
       "      <td>1971</td>\n",
       "      <td>13746</td>\n",
       "      <td>8.2</td>\n",
       "      <td>17203</td>\n",
       "      <td>2524</td>\n",
       "    </tr>\n",
       "    <tr>\n",
       "      <td>11</td>\n",
       "      <td>1972</td>\n",
       "      <td>13656</td>\n",
       "      <td>7.5</td>\n",
       "      <td>17707</td>\n",
       "      <td>2674</td>\n",
       "    </tr>\n",
       "    <tr>\n",
       "      <td>12</td>\n",
       "      <td>1973</td>\n",
       "      <td>13850</td>\n",
       "      <td>7.4</td>\n",
       "      <td>18108</td>\n",
       "      <td>2833</td>\n",
       "    </tr>\n",
       "    <tr>\n",
       "      <td>13</td>\n",
       "      <td>1974</td>\n",
       "      <td>14145</td>\n",
       "      <td>8.2</td>\n",
       "      <td>18266</td>\n",
       "      <td>2863</td>\n",
       "    </tr>\n",
       "    <tr>\n",
       "      <td>14</td>\n",
       "      <td>1975</td>\n",
       "      <td>14888</td>\n",
       "      <td>10.1</td>\n",
       "      <td>19308</td>\n",
       "      <td>2839</td>\n",
       "    </tr>\n",
       "    <tr>\n",
       "      <td>15</td>\n",
       "      <td>1976</td>\n",
       "      <td>14991</td>\n",
       "      <td>9.2</td>\n",
       "      <td>18224</td>\n",
       "      <td>2898</td>\n",
       "    </tr>\n",
       "    <tr>\n",
       "      <td>16</td>\n",
       "      <td>1977</td>\n",
       "      <td>14836</td>\n",
       "      <td>7.7</td>\n",
       "      <td>18997</td>\n",
       "      <td>3123</td>\n",
       "    </tr>\n",
       "    <tr>\n",
       "      <td>17</td>\n",
       "      <td>1978</td>\n",
       "      <td>14478</td>\n",
       "      <td>5.7</td>\n",
       "      <td>19505</td>\n",
       "      <td>3195</td>\n",
       "    </tr>\n",
       "    <tr>\n",
       "      <td>18</td>\n",
       "      <td>1979</td>\n",
       "      <td>14539</td>\n",
       "      <td>6.5</td>\n",
       "      <td>19800</td>\n",
       "      <td>3239</td>\n",
       "    </tr>\n",
       "    <tr>\n",
       "      <td>19</td>\n",
       "      <td>1980</td>\n",
       "      <td>14395</td>\n",
       "      <td>7.5</td>\n",
       "      <td>19546</td>\n",
       "      <td>3129</td>\n",
       "    </tr>\n",
       "    <tr>\n",
       "      <td>20</td>\n",
       "      <td>1981</td>\n",
       "      <td>14599</td>\n",
       "      <td>7.3</td>\n",
       "      <td>19117</td>\n",
       "      <td>3100</td>\n",
       "    </tr>\n",
       "    <tr>\n",
       "      <td>21</td>\n",
       "      <td>1982</td>\n",
       "      <td>14969</td>\n",
       "      <td>9.2</td>\n",
       "      <td>18774</td>\n",
       "      <td>3008</td>\n",
       "    </tr>\n",
       "    <tr>\n",
       "      <td>22</td>\n",
       "      <td>1983</td>\n",
       "      <td>15107</td>\n",
       "      <td>10.1</td>\n",
       "      <td>17813</td>\n",
       "      <td>2983</td>\n",
       "    </tr>\n",
       "    <tr>\n",
       "      <td>23</td>\n",
       "      <td>1984</td>\n",
       "      <td>14831</td>\n",
       "      <td>7.5</td>\n",
       "      <td>17304</td>\n",
       "      <td>3069</td>\n",
       "    </tr>\n",
       "    <tr>\n",
       "      <td>24</td>\n",
       "      <td>1985</td>\n",
       "      <td>15081</td>\n",
       "      <td>8.8</td>\n",
       "      <td>16756</td>\n",
       "      <td>3151</td>\n",
       "    </tr>\n",
       "    <tr>\n",
       "      <td>25</td>\n",
       "      <td>1986</td>\n",
       "      <td>15127</td>\n",
       "      <td>9.1</td>\n",
       "      <td>16749</td>\n",
       "      <td>3127</td>\n",
       "    </tr>\n",
       "    <tr>\n",
       "      <td>26</td>\n",
       "      <td>1987</td>\n",
       "      <td>15856</td>\n",
       "      <td>8.8</td>\n",
       "      <td>16925</td>\n",
       "      <td>3179</td>\n",
       "    </tr>\n",
       "    <tr>\n",
       "      <td>27</td>\n",
       "      <td>1988</td>\n",
       "      <td>15938</td>\n",
       "      <td>7.8</td>\n",
       "      <td>17231</td>\n",
       "      <td>3207</td>\n",
       "    </tr>\n",
       "    <tr>\n",
       "      <td>28</td>\n",
       "      <td>1989</td>\n",
       "      <td>16081</td>\n",
       "      <td>7.0</td>\n",
       "      <td>16816</td>\n",
       "      <td>3345</td>\n",
       "    </tr>\n",
       "  </tbody>\n",
       "</table>\n",
       "</div>"
      ],
      "text/plain": [
       "    year   roll  unem  hgrad   inc\n",
       "0   1961   5501   8.1   9552  1923\n",
       "1   1962   5945   7.0   9680  1961\n",
       "2   1963   6629   7.3   9731  1979\n",
       "3   1964   7556   7.5  11666  2030\n",
       "4   1965   8716   7.0  14675  2112\n",
       "5   1966   9369   6.4  15265  2192\n",
       "6   1967   9920   6.5  15484  2235\n",
       "7   1968  10167   6.4  15723  2351\n",
       "8   1969  11084   6.3  16501  2411\n",
       "9   1970  12504   7.7  16890  2475\n",
       "10  1971  13746   8.2  17203  2524\n",
       "11  1972  13656   7.5  17707  2674\n",
       "12  1973  13850   7.4  18108  2833\n",
       "13  1974  14145   8.2  18266  2863\n",
       "14  1975  14888  10.1  19308  2839\n",
       "15  1976  14991   9.2  18224  2898\n",
       "16  1977  14836   7.7  18997  3123\n",
       "17  1978  14478   5.7  19505  3195\n",
       "18  1979  14539   6.5  19800  3239\n",
       "19  1980  14395   7.5  19546  3129\n",
       "20  1981  14599   7.3  19117  3100\n",
       "21  1982  14969   9.2  18774  3008\n",
       "22  1983  15107  10.1  17813  2983\n",
       "23  1984  14831   7.5  17304  3069\n",
       "24  1985  15081   8.8  16756  3151\n",
       "25  1986  15127   9.1  16749  3127\n",
       "26  1987  15856   8.8  16925  3179\n",
       "27  1988  15938   7.8  17231  3207\n",
       "28  1989  16081   7.0  16816  3345"
      ]
     },
     "execution_count": 3,
     "metadata": {},
     "output_type": "execute_result"
    }
   ],
   "source": [
    "address = r\"C:\\Users\\Raimi Anda\\Data_Science_Scripts\\Linear Regression\\enrollment_forecast.csv\"\n",
    "enroll = pd.read_csv(address, header=0)\n",
    "enroll"
   ]
  },
  {
   "cell_type": "markdown",
   "metadata": {},
   "source": [
    "### Dataset Description \n",
    "#### Sample data from New Mexico\n",
    "* year: The year when the data was collected\n",
    "* roll: Number of enrollments in that year --- This is the target variable (Predicting enrollments)\n",
    "* unem: Local unemployment rate in that year\n",
    "* hgrad: Graduation rate\n",
    "* inc: Local income in the region during that year"
   ]
  },
  {
   "cell_type": "markdown",
   "metadata": {},
   "source": [
    "### Verify the assumptions of the Linear Regression Model\n",
    "* Free of missing values & outliers\n",
    "* Linear relationship between the predictor (roll) & the predictants (unem, hgrad, inc)\n",
    "* Predictors are independent of each other"
   ]
  },
  {
   "cell_type": "markdown",
   "metadata": {},
   "source": [
    "## Missing Values"
   ]
  },
  {
   "cell_type": "code",
   "execution_count": 4,
   "metadata": {},
   "outputs": [
    {
     "name": "stdout",
     "output_type": "stream",
     "text": [
      "<class 'pandas.core.frame.DataFrame'>\n",
      "RangeIndex: 29 entries, 0 to 28\n",
      "Data columns (total 5 columns):\n",
      "year     29 non-null int64\n",
      "roll     29 non-null int64\n",
      "unem     29 non-null float64\n",
      "hgrad    29 non-null int64\n",
      "inc      29 non-null int64\n",
      "dtypes: float64(1), int64(4)\n",
      "memory usage: 1.3 KB\n"
     ]
    }
   ],
   "source": [
    "enroll.info()"
   ]
  },
  {
   "cell_type": "markdown",
   "metadata": {},
   "source": [
    "## Linear Relationship Check"
   ]
  },
  {
   "cell_type": "code",
   "execution_count": 5,
   "metadata": {},
   "outputs": [
    {
     "data": {
      "text/plain": [
       "<seaborn.axisgrid.PairGrid at 0x18463be9c48>"
      ]
     },
     "execution_count": 5,
     "metadata": {},
     "output_type": "execute_result"
    },
    {
     "data": {
      "image/png": "[encoded data removed]",
      "text/plain": [
       "<Figure size 900x900 with 30 Axes>"
      ]
     },
     "metadata": {},
     "output_type": "display_data"
    }
   ],
   "source": [
    "sb.pairplot(enroll)"
   ]
  },
  {
   "cell_type": "markdown",
   "metadata": {},
   "source": [
    "## Test for Independence"
   ]
  },
  {
   "cell_type": "code",
   "execution_count": 6,
   "metadata": {},
   "outputs": [
    {
     "name": "stdout",
     "output_type": "stream",
     "text": [
      "           year      roll      unem     hgrad       inc\n",
      "year   1.000000  0.900934  0.378305  0.670300  0.944287\n",
      "roll   0.900934  1.000000  0.391344  0.890294  0.949876\n",
      "unem   0.378305  0.391344  1.000000  0.177376  0.282310\n",
      "hgrad  0.670300  0.890294  0.177376  1.000000  0.820089\n",
      "inc    0.944287  0.949876  0.282310  0.820089  1.000000\n"
     ]
    }
   ],
   "source": [
    "print(enroll.corr())"
   ]
  },
  {
   "cell_type": "code",
   "execution_count": 7,
   "metadata": {},
   "outputs": [
    {
     "data": {
      "text/plain": [
       "(5.0, 0)"
      ]
     },
     "execution_count": 7,
     "metadata": {},
     "output_type": "execute_result"
    },
    {
     "data": {
      "image/png": "[encoded data removed]",
      "text/plain": [
       "<Figure size 360x288 with 2 Axes>"
      ]
     },
     "metadata": {},
     "output_type": "display_data"
    }
   ],
   "source": [
    "ax = sb.heatmap(enroll.corr(), annot=True)\n",
    "ax.set_ylim(5.0,0)"
   ]
  },
  {
   "cell_type": "markdown",
   "metadata": {},
   "source": [
    "## Results\n",
    "- Dataset has no missing records\n",
    "- Predictants('hgrad' and 'unem') are linearly related to the predictor ('roll')\n",
    "- hgrad and unem are independent of each other"
   ]
  },
  {
   "cell_type": "markdown",
   "metadata": {},
   "source": [
    "#### Splitting the predictants and the predictor"
   ]
  },
  {
   "cell_type": "code",
   "execution_count": 8,
   "metadata": {},
   "outputs": [],
   "source": [
    "enroll_data = enroll[['unem', 'hgrad']].values\n",
    "\n",
    "enroll_target = enroll[['roll']].values\n",
    "\n",
    "x, y = scale(enroll_data), enroll_target"
   ]
  },
  {
   "cell_type": "code",
   "execution_count": 9,
   "metadata": {
    "collapsed": true
   },
   "outputs": [
    {
     "name": "stdout",
     "output_type": "stream",
     "text": [
      "[[ 0.34682081 -2.42562243]\n",
      " [-0.64989846 -2.38111647]\n",
      " [-0.37806593 -2.36338363]\n",
      " [-0.19684425 -1.69057879]\n",
      " [-0.64989846 -0.64434118]\n",
      " [-1.19356352 -0.43919655]\n",
      " [-1.10295268 -0.36304964]\n",
      " [-1.19356352 -0.27994868]\n",
      " [-1.28417436 -0.00943593]\n",
      " [-0.01562256  0.12582044]\n",
      " [ 0.43743166  0.23465141]\n",
      " [-0.19684425  0.4098936 ]\n",
      " [-0.28745509  0.5493224 ]\n",
      " [ 0.43743166  0.60425944]\n",
      " [ 2.15903768  0.96656572]\n",
      " [ 1.34354009  0.58965593]\n",
      " [-0.01562256  0.85843016]\n",
      " [-1.82783942  1.03506316]\n",
      " [-1.10295268  1.13763548]\n",
      " [-0.19684425  1.04931898]\n",
      " [-0.37806593  0.90015449]\n",
      " [ 1.34354009  0.78089244]\n",
      " [ 2.15903768  0.44675009]\n",
      " [-0.19684425  0.26976938]\n",
      " [ 0.98109672  0.07922827]\n",
      " [ 1.25292925  0.07679435]\n",
      " [ 0.98109672  0.13799004]\n",
      " [ 0.07498828  0.24438708]\n",
      " [-0.64989846  0.10009044]]\n"
     ]
    }
   ],
   "source": [
    "print(x)"
   ]
  },
  {
   "cell_type": "code",
   "execution_count": 10,
   "metadata": {
    "collapsed": true
   },
   "outputs": [
    {
     "name": "stdout",
     "output_type": "stream",
     "text": [
      "[[ 5501]\n",
      " [ 5945]\n",
      " [ 6629]\n",
      " [ 7556]\n",
      " [ 8716]\n",
      " [ 9369]\n",
      " [ 9920]\n",
      " [10167]\n",
      " [11084]\n",
      " [12504]\n",
      " [13746]\n",
      " [13656]\n",
      " [13850]\n",
      " [14145]\n",
      " [14888]\n",
      " [14991]\n",
      " [14836]\n",
      " [14478]\n",
      " [14539]\n",
      " [14395]\n",
      " [14599]\n",
      " [14969]\n",
      " [15107]\n",
      " [14831]\n",
      " [15081]\n",
      " [15127]\n",
      " [15856]\n",
      " [15938]\n",
      " [16081]]\n"
     ]
    }
   ],
   "source": [
    "print(y)"
   ]
  },
  {
   "cell_type": "markdown",
   "metadata": {},
   "source": [
    "#### Applying the LinearRegression Model on the dataset"
   ]
  },
  {
   "cell_type": "code",
   "execution_count": 11,
   "metadata": {},
   "outputs": [
    {
     "data": {
      "text/plain": [
       "LinearRegression(copy_X=True, fit_intercept=True, n_jobs=None, normalize=True)"
      ]
     },
     "execution_count": 11,
     "metadata": {},
     "output_type": "execute_result"
    }
   ],
   "source": [
    "LinReg = LinearRegression(normalize=True)\n",
    "LinReg.fit(x, y)"
   ]
  },
  {
   "cell_type": "markdown",
   "metadata": {},
   "source": [
    "#### Evaluating the Model (R-Squared Value) - How well the model performs in predicting college enrollment in New Mexico"
   ]
  },
  {
   "cell_type": "code",
   "execution_count": 12,
   "metadata": {
    "scrolled": false
   },
   "outputs": [
    {
     "name": "stdout",
     "output_type": "stream",
     "text": [
      "0.8488812666133723\n"
     ]
    }
   ],
   "source": [
    "print(LinReg.score(x, y))"
   ]
  },
  {
   "cell_type": "code",
   "execution_count": null,
   "metadata": {},
   "outputs": [],
   "source": []
  }
 ],
 "metadata": {
  "kernelspec": {
   "display_name": "Python 3",
   "language": "python",
   "name": "python3"
  },
  "language_info": {
   "codemirror_mode": {
    "name": "ipython",
    "version": 3
   },
   "file_extension": ".py",
   "mimetype": "text/x-python",
   "name": "python",
   "nbconvert_exporter": "python",
   "pygments_lexer": "ipython3",
   "version": "3.7.4"
  }
 },
 "nbformat": 4,
 "nbformat_minor": 2
}
